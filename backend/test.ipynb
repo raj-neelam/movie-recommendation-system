{
 "cells": [
  {
   "cell_type": "code",
   "execution_count": 2,
   "id": "691a5b53",
   "metadata": {},
   "outputs": [],
   "source": [
    "import joblib\n",
    "import pandas as pd\n",
    "movie_features =  pd.read_csv(\"movie_features.csv\")"
   ]
  },
  {
   "cell_type": "code",
   "execution_count": 13,
   "id": "dd67afa9",
   "metadata": {},
   "outputs": [],
   "source": [
    "model = joblib.load('movie_recommender_model.pkl')\n",
    "\n",
    "def find_similar_movies(movie_id, num_neighbors=5):\n",
    "    # Get the movie row based on tmdbId from movie_features\n",
    "    movie_row = movie_features[movie_features['tmdbId'] == movie_id]\n",
    "    if movie_row.empty:\n",
    "        print(\"Movie id not found.\")\n",
    "        return None\n",
    "\n",
    "    # Prepare query features by dropping 'title' and 'tmdbId'\n",
    "    query_features = movie_row.drop(columns=['title', 'tmdbId'])\n",
    "    \n",
    "    # Transform the query features using the pipeline's preprocessing step\n",
    "    query_transformed = model.named_steps['columntransformer'].transform(query_features)\n",
    "    \n",
    "    # Retrieve neighbors using the NearestNeighbors model inside the pipeline\n",
    "    distances, indices = model.named_steps['nearestneighbors'].kneighbors(query_transformed)\n",
    "\n",
    "    # Remove the queried movie from the neighbors if it's present\n",
    "    query_index = movie_row.index[0]\n",
    "    neighbor_indices = [idx for idx in indices[0] if idx != query_index]\n",
    "    neighbor_indices = neighbor_indices[:num_neighbors]\n",
    "    \n",
    "    # Return the similar movies as a list of tuples (tmdbId, title)\n",
    "    similar_movies = movie_features.iloc[neighbor_indices][['tmdbId', 'title']]\n",
    "    return list(similar_movies.itertuples(index=False, name=None))"
   ]
  },
  {
   "cell_type": "code",
   "execution_count": null,
   "id": "39636dbb",
   "metadata": {},
   "outputs": [
    {
     "data": {
      "text/plain": [
       "[(15457, 'Paris 36 (Faubourg 36)'),\n",
       " (187628, 'Shed No Tears (Känn ingen sorg)'),\n",
       " (243683, 'Step Up All In'),\n",
       " (11518, 'Mohabbatein'),\n",
       " (54986, 'Chunhyang')]"
      ]
     },
     "execution_count": 14,
     "metadata": {},
     "output_type": "execute_result"
    },
    {
     "ename": "",
     "evalue": "",
     "output_type": "error",
     "traceback": [
      "\u001b[1;31mThe Kernel crashed while executing code in the current cell or a previous cell. \n",
      "\u001b[1;31mPlease review the code in the cell(s) to identify a possible cause of the failure. \n",
      "\u001b[1;31mClick <a href='https://aka.ms/vscodeJupyterKernelCrash'>here</a> for more info. \n",
      "\u001b[1;31mView Jupyter <a href='command:jupyter.viewOutput'>log</a> for further details."
     ]
    }
   ],
   "source": [
    "find_similar_movies(192558, num_neighbors=5)  "
   ]
  },
  {
   "cell_type": "code",
   "execution_count": null,
   "id": "c165dba5",
   "metadata": {},
   "outputs": [],
   "source": []
  }
 ],
 "metadata": {
  "kernelspec": {
   "display_name": "Python 3",
   "language": "python",
   "name": "python3"
  },
  "language_info": {
   "codemirror_mode": {
    "name": "ipython",
    "version": 3
   },
   "file_extension": ".py",
   "mimetype": "text/x-python",
   "name": "python",
   "nbconvert_exporter": "python",
   "pygments_lexer": "ipython3",
   "version": "3.10.0"
  }
 },
 "nbformat": 4,
 "nbformat_minor": 5
}
