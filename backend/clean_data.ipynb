{
 "cells": [
  {
   "cell_type": "markdown",
   "id": "7fdd36b2",
   "metadata": {},
   "source": [
    "this notebook is used to clean the raw data of ML-32M database and save it in usable format"
   ]
  },
  {
   "cell_type": "code",
   "execution_count": 2,
   "id": "8ad2a92d",
   "metadata": {},
   "outputs": [],
   "source": [
    "import pandas as pd\n",
    "import re"
   ]
  },
  {
   "cell_type": "code",
   "execution_count": 3,
   "id": "83955f03",
   "metadata": {},
   "outputs": [],
   "source": [
    "movies_df = pd.read_csv(\"data/movies.csv\")\n",
    "ratings_df = pd.read_csv(\"data/ratings.csv\")\n",
    "links_df = pd.read_csv(\"data/links.csv\")\n",
    "tags_df = pd.read_csv(\"data/tags.csv\")"
   ]
  },
  {
   "cell_type": "code",
   "execution_count": 4,
   "id": "d3375ffb",
   "metadata": {},
   "outputs": [],
   "source": [
    "# --- Data Merging and Cleaning ---\n",
    "\n",
    "# Calculate average rating and rating count\n",
    "movie_ratings = ratings_df.groupby('movieId')['rating'].agg(['mean', 'count']).reset_index()\n",
    "movie_ratings.rename(columns={'mean': 'average_rating', 'count': 'rating_count'}, inplace=True)\n",
    "\n",
    "# Merge movies with ratings\n",
    "df = pd.merge(movies_df, movie_ratings, on='movieId', how='left')\n",
    "\n",
    "# Merge with links to get tmdbId\n",
    "df = pd.merge(df, links_df, on='movieId', how='left')"
   ]
  },
  {
   "cell_type": "code",
   "execution_count": 5,
   "id": "526c6001",
   "metadata": {},
   "outputs": [],
   "source": [
    "# --- Data Merging and Cleaning ---\n",
    "\n",
    "# Calculate average rating and rating count\n",
    "movie_ratings = ratings_df.groupby('movieId')['rating'].agg(['mean', 'count']).reset_index()\n",
    "movie_ratings.rename(columns={'mean': 'average_rating', 'count': 'rating_count'}, inplace=True)\n",
    "\n",
    "# Merge movies with ratings\n",
    "df = pd.merge(movies_df, movie_ratings, on='movieId', how='left')\n",
    "\n",
    "# Merge with links to get tmdbId\n",
    "df = pd.merge(df, links_df, on='movieId', how='left')"
   ]
  },
  {
   "cell_type": "code",
   "execution_count": 6,
   "id": "d4855537",
   "metadata": {},
   "outputs": [],
   "source": [
    "# # --- Process and Add Tags ---\n",
    "# # Group all tags for each movie into a single pipe-separated string.\n",
    "# tags_df['tag'] = tags_df['tag'].astype(str).str.lower()\n",
    "# movie_tags = tags_df.groupby('movieId')['tag'].apply(lambda x: ' | '.join(x)).reset_index()\n",
    "# movie_tags.rename(columns={'tag': 'tags'}, inplace=True) # Rename column to 'tags'\n",
    "\n",
    "# # Merge the combined tags into the main dataframe\n",
    "# df = pd.merge(df, movie_tags, on='movieId', how='left')\n",
    "# # Fill movies that have no tags with an empty string\n",
    "# df['tags'].fillna(\"\", inplace=True)"
   ]
  },
  {
   "cell_type": "code",
   "execution_count": 7,
   "id": "b871ee48",
   "metadata": {},
   "outputs": [],
   "source": [
    "# --- Feature Engineering ---\n",
    "\n",
    "# 1. Separate title and release year\n",
    "df['year'] = df['title'].str.extract(r'\\((\\d{4})\\)', expand=False).fillna(0).astype(int)\n",
    "df['title'] = df['title'].str.replace(r'\\s*\\(\\d{4}\\)$', '', regex=True).str.strip()\n",
    "\n",
    "# 2. Round average rating\n",
    "df['average_rating'] = df['average_rating'].fillna(0).round(3)\n",
    "df['rating_count'] = df['rating_count'].fillna(0)\n",
    "\n",
    "# 3. One-hot encode genres\n",
    "genres_dummies = df['genres'].str.get_dummies(sep='|')\n",
    "\n",
    "# Join the new genre columns to the main dataframe\n",
    "df = pd.concat([df, genres_dummies], axis=1)"
   ]
  },
  {
   "cell_type": "code",
   "execution_count": 8,
   "id": "93b9f764",
   "metadata": {},
   "outputs": [
    {
     "name": "stdout",
     "output_type": "stream",
     "text": [
      "Transformed Data Head:\n",
      "   tmdbId                        title  year  average_rating  rating_count  \\\n",
      "0     862                    Toy Story  1995           3.897       68997.0   \n",
      "1    8844                      Jumanji  1995           3.276       28904.0   \n",
      "2   15602             Grumpier Old Men  1995           3.139       13134.0   \n",
      "3   31357            Waiting to Exhale  1995           2.845        2806.0   \n",
      "4   11862  Father of the Bride Part II  1995           3.060       13154.0   \n",
      "\n",
      "   (no genres listed)  Action  Adventure  Animation  Children  ...  Film-Noir  \\\n",
      "0                   0       0          1          1         1  ...          0   \n",
      "1                   0       0          1          0         1  ...          0   \n",
      "2                   0       0          0          0         0  ...          0   \n",
      "3                   0       0          0          0         0  ...          0   \n",
      "4                   0       0          0          0         0  ...          0   \n",
      "\n",
      "   Horror  IMAX  Musical  Mystery  Romance  Sci-Fi  Thriller  War  Western  \n",
      "0       0     0        0        0        0       0         0    0        0  \n",
      "1       0     0        0        0        0       0         0    0        0  \n",
      "2       0     0        0        0        1       0         0    0        0  \n",
      "3       0     0        0        0        1       0         0    0        0  \n",
      "4       0     0        0        0        0       0         0    0        0  \n",
      "\n",
      "[5 rows x 25 columns]\n",
      "\n",
      "Shape of the final DataFrame: (87461, 25)\n"
     ]
    }
   ],
   "source": [
    "# --- Final DataFrame Preparation ---\n",
    "\n",
    "# Drop original columns that are no longer needed\n",
    "df.drop(['movieId', 'genres', 'imdbId'], axis=1, inplace=True)\n",
    "\n",
    "# Handle cases where a tmdbId might be missing and set type\n",
    "df.dropna(subset=['tmdbId'], inplace=True)\n",
    "df['tmdbId'] = df['tmdbId'].astype(int)\n",
    "\n",
    "# Reorder columns for better readability\n",
    "genre_cols = genres_dummies.columns.tolist()\n",
    "# New column order: identifiers, features, genres, and finally the new tags column\n",
    "new_order = ['tmdbId', 'title', 'year', 'average_rating', 'rating_count'] + genre_cols #+ ['tags']\n",
    "final_df = df[new_order]\n",
    "\n",
    "# Display the first few rows of the transformed data\n",
    "print(\"Transformed Data Head:\")\n",
    "print(final_df.head())\n",
    "print(\"\\nShape of the final DataFrame:\", final_df.shape)"
   ]
  },
  {
   "cell_type": "code",
   "execution_count": 9,
   "id": "caeffeca",
   "metadata": {},
   "outputs": [],
   "source": [
    "# Save the result to a new CSV file\n",
    "final_df.to_csv(\"movie_features.csv\", index=False)"
   ]
  }
 ],
 "metadata": {
  "kernelspec": {
   "display_name": "Python 3",
   "language": "python",
   "name": "python3"
  },
  "language_info": {
   "codemirror_mode": {
    "name": "ipython",
    "version": 3
   },
   "file_extension": ".py",
   "mimetype": "text/x-python",
   "name": "python",
   "nbconvert_exporter": "python",
   "pygments_lexer": "ipython3",
   "version": "3.10.0"
  }
 },
 "nbformat": 4,
 "nbformat_minor": 5
}
